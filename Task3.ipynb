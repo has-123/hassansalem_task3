{
  "nbformat": 4,
  "nbformat_minor": 0,
  "metadata": {
    "colab": {
      "name": "Task3.ipynb",
      "provenance": [],
      "collapsed_sections": []
    },
    "kernelspec": {
      "name": "python3",
      "display_name": "Python 3"
    },
    "language_info": {
      "name": "python"
    }
  },
  "cells": [
    {
      "cell_type": "code",
      "source": [
        "# Program to append to text file using write() function\n",
        "with  open(\"/content/employee1.txt\", \"a\") as file:\n",
        "  fname = input(\"Input your First Name : \\n\")\n",
        "  lname = input(\"Input your Last Name : \\n\")\n",
        "  gender = input(\"your gender is : \\n\")\n",
        "  id = input(\"your id is : \\n\")\n",
        "  content = [\"Firstname is: \\t\", fname, \"Lastname is: \\t\", lname, \"The Gender is: \\n\", gender, \" The id is: \\n\", id]\n",
        "  file.writelines(content)\n",
        "  file.close()\n",
        "\n",
        "\n",
        "# Program to read the entire file (absolute path) using read() function\n",
        "with open(\"/content/employee1.txt\", \"r\") as file:\n",
        "\tcontent = file.read()\n",
        "print(content)"
      ],
      "metadata": {
        "colab": {
          "base_uri": "https://localhost:8080/"
        },
        "id": "oBQ7fMRjSCc9",
        "outputId": "6532a51d-4537-4bf8-ed37-748909aac4b7"
      },
      "execution_count": 9,
      "outputs": [
        {
          "output_type": "stream",
          "name": "stdout",
          "text": [
            "Input your First Name : \n",
            "hassan\n",
            "Input your Last Name : \n",
            "salem\n",
            "your gender is : \n",
            "male\n",
            "your id is : \n",
            "123\n",
            "Firstname is: \thassanLastname is: \tsalemThe Gender is: \n",
            "male The id is: \n",
            "123\n"
          ]
        }
      ]
    }
  ]
}